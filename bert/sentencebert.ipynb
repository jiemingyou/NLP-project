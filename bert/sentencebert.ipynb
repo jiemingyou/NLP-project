{
 "cells": [
  {
   "cell_type": "code",
   "execution_count": 4,
   "metadata": {},
   "outputs": [],
   "source": [
    "from sentence_transformers import SentenceTransformer, util\n",
    "model = SentenceTransformer('all-distilroberta-v1') #max input length 512 output dimension 768\n",
    "# model = SentenceTransformer('multi-qa-mpnet-base-dot-v1') #max input length 512 output dimension 768\n",
    "# model = SentenceTransformer('multi-qa-distilbert-cos-v1') #max input length 512 output dimension 768\n",
    "# model = SentenceTransformer('multi-qa-MiniLM-L6-cos-v1') #max input length 512 output dimension 384\n"
   ]
  },
  {
   "cell_type": "code",
   "execution_count": 151,
   "metadata": {},
   "outputs": [],
   "source": [
    "class SentenceBert:\n",
    "    \"SentenceBert class to encode and rank sentences using SentenceBert model.\"\n",
    "    def __init__(self, model_name=\"all-distilroberta-v1\"):\n",
    "        self.model = SentenceTransformer(model_name)\n",
    "    \n",
    "    def encode(self, sentence):\n",
    "        return self.model.encode(sentence)\n",
    "    \n",
    "    def cos_sim(self, embedding1, embedding2):\n",
    "        return util.cos_sim(embedding1, embedding2)\n",
    "    \n",
    "    def rank_sentences(self, sentence, sentences):\n",
    "        embedding = self.encode(sentence)\n",
    "        embeddings = self.encode(sentences)\n",
    "        return self.cos_sim(embedding, embeddings)\n",
    "    \n",
    "    def top_k_sentences(self, sentence, sentences, k=5):\n",
    "        scores = self.rank_sentences(sentence, sentences)\n",
    "        sorted_scores, sorted_indices = scores.sort(descending=True)\n",
    "        print(sorted_scores, sorted_indices)\n",
    "        top_k_indices = sorted_indices[0][:k]\n",
    "        top_k_sentences = [(sentences[i], scores[0][i].item()) for i in top_k_indices]\n",
    "        return top_k_sentences"
   ]
  },
  {
   "cell_type": "code",
   "execution_count": 152,
   "metadata": {},
   "outputs": [],
   "source": [
    "sentence_bert = SentenceBert()"
   ]
  },
  {
   "cell_type": "code",
   "execution_count": 153,
   "metadata": {},
   "outputs": [],
   "source": [
    "res = sentence_bert.encode([\"seppo\", \"teppo\", \"matti\", \"teppo\", \"seppoilua\"])"
   ]
  },
  {
   "cell_type": "code",
   "execution_count": 154,
   "metadata": {},
   "outputs": [],
   "source": [
    "test_sentences = [\"The quick brown fox jumps over the lazy dog.\"\n",
    ",\"Despite the rain, the match continued without any delay.\"\n",
    ",\"Artificial intelligence and machine learning are transforming industries.\"\n",
    ",\"The cake was decorated with fresh roses and tasted just as sweet.\"\n",
    ",\"Quantum computing holds the potential to revolutionize technology.\"\n",
    ",\"The stock market experienced a significant downturn last week.\"\n",
    ",\"Renewable energy sources are becoming more cost-effective and widespread.\"\n",
    ",\"The archaeologist discovered ancient ruins beneath the city's streets.\"\n",
    ",\"The novel's intricate plot twists left readers both puzzled and intrigued.\"\n",
    ",\"Advancements in medical research are leading to groundbreaking treatments.\"]"
   ]
  },
  {
   "cell_type": "code",
   "execution_count": 155,
   "metadata": {},
   "outputs": [],
   "source": [
    "query = \"energy crisis needs actions that are novel and rely on data\""
   ]
  },
  {
   "cell_type": "code",
   "execution_count": 156,
   "metadata": {},
   "outputs": [
    {
     "name": "stdout",
     "output_type": "stream",
     "text": [
      "tensor([[ 0.4707,  0.2198,  0.1863,  0.1602,  0.1415,  0.0593,  0.0189, -0.0234,\n",
      "         -0.0499, -0.0736]]) tensor([[6, 2, 5, 4, 9, 8, 7, 0, 1, 3]])\n"
     ]
    },
    {
     "data": {
      "text/plain": [
       "[('Renewable energy sources are becoming more cost-effective and widespread.',\n",
       "  0.47070589661598206),\n",
       " ('Artificial intelligence and machine learning are transforming industries.',\n",
       "  0.2198319286108017)]"
      ]
     },
     "execution_count": 156,
     "metadata": {},
     "output_type": "execute_result"
    }
   ],
   "source": [
    "sentence_bert.top_k_sentences(query, test_sentences, k=2)"
   ]
  },
  {
   "cell_type": "code",
   "execution_count": null,
   "metadata": {},
   "outputs": [],
   "source": []
  },
  {
   "cell_type": "code",
   "execution_count": null,
   "metadata": {},
   "outputs": [],
   "source": []
  }
 ],
 "metadata": {
  "kernelspec": {
   "display_name": "Python 3",
   "language": "python",
   "name": "python3"
  },
  "language_info": {
   "codemirror_mode": {
    "name": "ipython",
    "version": 3
   },
   "file_extension": ".py",
   "mimetype": "text/x-python",
   "name": "python",
   "nbconvert_exporter": "python",
   "pygments_lexer": "ipython3",
   "version": "3.9.6"
  },
  "orig_nbformat": 4,
  "vscode": {
   "interpreter": {
    "hash": "31f2aee4e71d21fbe5cf8b01ff0e069b9275f58929596ceb00d14d90e3e16cd6"
   }
  }
 },
 "nbformat": 4,
 "nbformat_minor": 2
}
