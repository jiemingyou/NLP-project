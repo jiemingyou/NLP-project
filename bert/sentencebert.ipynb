{
 "cells": [
  {
   "cell_type": "code",
   "execution_count": 4,
   "metadata": {},
   "outputs": [],
   "source": [
    "from sentence_transformers import SentenceTransformer, util\n",
    "model = SentenceTransformer('all-distilroberta-v1') #max input length 512 output dimension 768\n",
    "# model = SentenceTransformer('multi-qa-mpnet-base-dot-v1') #max input length 512 output dimension 768\n",
    "# model = SentenceTransformer('multi-qa-distilbert-cos-v1') #max input length 512 output dimension 768\n",
    "# model = SentenceTransformer('multi-qa-MiniLM-L6-cos-v1') #max input length 512 output dimension 384\n"
   ]
  },
  {
   "cell_type": "code",
   "execution_count": 98,
   "metadata": {},
   "outputs": [],
   "source": [
    "class SentenceBert:\n",
    "    \"SentenceBert class to encode and rank sentences using SentenceBert model.\"\n",
    "    def __init__(self, model_name=\"all-distilroberta-v1\"):\n",
    "        self.model = SentenceTransformer(model_name)\n",
    "    \n",
    "    def encode(self, sentence):\n",
    "        return self.model.encode(sentence)\n",
    "    \n",
    "    def cos_sim(self, embedding1, embedding2):\n",
    "        return util.cos_sim(embedding1, embedding2)\n",
    "    \n",
    "    def rank_sentences(self, sentence, sentences):\n",
    "        embedding = self.encode(sentence)\n",
    "        embeddings = self.encode(sentences)\n",
    "        return self.cos_sim(embedding, embeddings)\n",
    "    \n",
    "    def top_k_sentences(self, sentence, sentences, k=5):\n",
    "        scores = self.rank_sentences(sentence, sentences)\n",
    "        sorted_scores, sorted_indices = scores.sort(descending=True)\n",
    "        top_k_indices = sorted_indices[0][:k]\n",
    "        return top_k_indices"
   ]
  },
  {
   "cell_type": "code",
   "execution_count": 99,
   "metadata": {},
   "outputs": [],
   "source": [
    "sentence_bert = SentenceBert()"
   ]
  },
  {
   "cell_type": "code",
   "execution_count": 100,
   "metadata": {},
   "outputs": [],
   "source": [
    "res = sentence_bert.encode([\"seppo\", \"teppo\", \"matti\", \"teppo\", \"seppoilua\"])"
   ]
  },
  {
   "cell_type": "code",
   "execution_count": 102,
   "metadata": {},
   "outputs": [
    {
     "data": {
      "text/plain": [
       "tensor([0, 5])"
      ]
     },
     "execution_count": 102,
     "metadata": {},
     "output_type": "execute_result"
    }
   ],
   "source": [
    "sentence_bert.top_k_sentences(\"seppo\", [\"seppo\", \"teppo\", \"matti\",\"teppo\", \"sep\", \"seppo\"], k=2)"
   ]
  },
  {
   "cell_type": "code",
   "execution_count": null,
   "metadata": {},
   "outputs": [],
   "source": []
  }
 ],
 "metadata": {
  "kernelspec": {
   "display_name": "Python 3",
   "language": "python",
   "name": "python3"
  },
  "language_info": {
   "codemirror_mode": {
    "name": "ipython",
    "version": 3
   },
   "file_extension": ".py",
   "mimetype": "text/x-python",
   "name": "python",
   "nbconvert_exporter": "python",
   "pygments_lexer": "ipython3",
   "version": "3.9.6"
  },
  "orig_nbformat": 4,
  "vscode": {
   "interpreter": {
    "hash": "31f2aee4e71d21fbe5cf8b01ff0e069b9275f58929596ceb00d14d90e3e16cd6"
   }
  }
 },
 "nbformat": 4,
 "nbformat_minor": 2
}
