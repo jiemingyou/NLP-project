{
 "cells": [
  {
   "cell_type": "code",
   "execution_count": 1,
   "metadata": {},
   "outputs": [
    {
     "name": "stderr",
     "output_type": "stream",
     "text": [
      "/Users/eliastakala/opt/anaconda3/envs/nlp/lib/python3.12/site-packages/transformers/utils/generic.py:441: UserWarning: torch.utils._pytree._register_pytree_node is deprecated. Please use torch.utils._pytree.register_pytree_node instead.\n",
      "  _torch_pytree._register_pytree_node(\n"
     ]
    }
   ],
   "source": [
    "from sentence_transformers import SentenceTransformer, util"
   ]
  },
  {
   "cell_type": "code",
   "execution_count": 2,
   "metadata": {},
   "outputs": [
    {
     "name": "stderr",
     "output_type": "stream",
     "text": [
      "/Users/eliastakala/opt/anaconda3/envs/nlp/lib/python3.12/site-packages/transformers/utils/generic.py:309: UserWarning: torch.utils._pytree._register_pytree_node is deprecated. Please use torch.utils._pytree.register_pytree_node instead.\n",
      "  _torch_pytree._register_pytree_node(\n"
     ]
    }
   ],
   "source": [
    "model = SentenceTransformer('all-mpnet-base-v2') #max input length 512 output dimension 384"
   ]
  },
  {
   "cell_type": "code",
   "execution_count": 4,
   "metadata": {},
   "outputs": [],
   "source": [
    "import numpy as np\n",
    "import pandas as pd\n",
    "\n",
    "df = pd.read_csv('translated_course_data_V2.csv')\n"
   ]
  },
  {
   "cell_type": "code",
   "execution_count": 5,
   "metadata": {},
   "outputs": [],
   "source": [
    "df['embedding'] = df[\"course_description_en\"].apply(lambda x: model.encode(x.replace(\"\\n\", \" \")))"
   ]
  },
  {
   "cell_type": "code",
   "execution_count": null,
   "metadata": {},
   "outputs": [],
   "source": [
    "import seaborn as sns\n",
    "import numpy as np\n",
    "from sklearn.manifold import TSNE\n",
    "import matplotlib.pyplot as plt\n",
    "\n",
    "df[\"embedding\"] = df[\"embedding\"].apply(lambda x: np.array(x))\n",
    "\n",
    "# Keep the top 3 faculties\n",
    "X = df.embedding\n",
    "faculty = df[\"course_code\"].str.split(\"-\", expand=True)[0]\n",
    "top_faculties = faculty.value_counts().index[:3]\n",
    "mask = faculty.isin(top_faculties)\n",
    "X_masked = np.stack(X[mask].to_numpy())\n",
    "\n",
    "reduced = TSNE(\n",
    "    n_components=2,\n",
    "    perplexity=40,\n",
    "    n_iter=5000,\n",
    ").fit_transform(X_masked)\n",
    "\n",
    "# Faculty labels\n",
    "_, faculty_labels = np.unique(faculty[mask].values, return_inverse=True)\n",
    "\n",
    "\n",
    "# Plot\n",
    "fig, ax = plt.subplots(figsize=(5, 5))\n",
    "scatter = ax.scatter(\n",
    "    reduced[:, 0],\n",
    "    reduced[:, 1],\n",
    "    c=faculty_labels,\n",
    ")\n",
    "\n",
    "# Legend\n",
    "legend1 = ax.legend(\n",
    "    scatter.legend_elements()[0],\n",
    "    top_faculties,\n",
    "    title=\"Faculty\",\n",
    ")\n",
    "\n",
    "sns.despine()\n",
    "ax.grid(alpha=0.2)\n",
    "ax.set_axisbelow(True)\n",
    "ax.set_xticks([])\n",
    "ax.set_yticks([])\n",
    "ax.set_title(\"BERT embeddings in 2D\", fontweight=\"bold\")\n",
    "ax.set_xlabel(\"1st component\")\n",
    "ax.set_ylabel(\"2nd component\")\n",
    "\n",
    "fig.tight_layout()\n",
    "plt.show()"
   ]
  }
 ],
 "metadata": {
  "kernelspec": {
   "display_name": "nlp",
   "language": "python",
   "name": "python3"
  },
  "language_info": {
   "codemirror_mode": {
    "name": "ipython",
    "version": 3
   },
   "file_extension": ".py",
   "mimetype": "text/x-python",
   "name": "python",
   "nbconvert_exporter": "python",
   "pygments_lexer": "ipython3",
   "version": "3.12.0"
  },
  "orig_nbformat": 4,
  "vscode": {
   "interpreter": {
    "hash": "f0b684dd7ecae49ebbb2390a9988983890d2bf83ef9ab005b618a977a09cdde4"
   }
  }
 },
 "nbformat": 4,
 "nbformat_minor": 2
}
