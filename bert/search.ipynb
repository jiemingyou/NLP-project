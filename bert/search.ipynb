{
 "cells": [
  {
   "cell_type": "code",
   "execution_count": 20,
   "metadata": {},
   "outputs": [],
   "source": [
    "from sentencebert import SentenceBert\n",
    "import pandas as pd\n",
    "import fastparquet"
   ]
  },
  {
   "cell_type": "code",
   "execution_count": 21,
   "metadata": {},
   "outputs": [],
   "source": [
    "model = SentenceBert()"
   ]
  },
  {
   "cell_type": "code",
   "execution_count": 22,
   "metadata": {},
   "outputs": [],
   "source": [
    "df = pd.read_parquet(\"translated_course_data.parquet\", engine=\"fastparquet\")"
   ]
  },
  {
   "cell_type": "code",
   "execution_count": 23,
   "metadata": {},
   "outputs": [
    {
     "data": {
      "text/html": [
       "<div>\n",
       "<style scoped>\n",
       "    .dataframe tbody tr th:only-of-type {\n",
       "        vertical-align: middle;\n",
       "    }\n",
       "\n",
       "    .dataframe tbody tr th {\n",
       "        vertical-align: top;\n",
       "    }\n",
       "\n",
       "    .dataframe thead th {\n",
       "        text-align: right;\n",
       "    }\n",
       "</style>\n",
       "<table border=\"1\" class=\"dataframe\">\n",
       "  <thead>\n",
       "    <tr style=\"text-align: right;\">\n",
       "      <th></th>\n",
       "      <th>course_code</th>\n",
       "      <th>course_name</th>\n",
       "      <th>credits</th>\n",
       "      <th>course_info</th>\n",
       "      <th>url</th>\n",
       "      <th>course_description</th>\n",
       "      <th>course_description_en</th>\n",
       "    </tr>\n",
       "  </thead>\n",
       "  <tbody>\n",
       "    <tr>\n",
       "      <th>0</th>\n",
       "      <td>CHEM-C2430</td>\n",
       "      <td>Polymeeriteknologian perusteet</td>\n",
       "      <td>5</td>\n",
       "      <td>{'OSAAMISTAVOITTEET': ['Kurssi antaa perusvalm...</td>\n",
       "      <td>https://sisu.aalto.fi/student/courseunit/otm-3...</td>\n",
       "      <td>Polymeeriteknologian perusteet. Kurssi antaa p...</td>\n",
       "      <td>Basics of polymer technology. The course provi...</td>\n",
       "    </tr>\n",
       "    <tr>\n",
       "      <th>1</th>\n",
       "      <td>CHEM-E3121</td>\n",
       "      <td>Microbial Physiology D</td>\n",
       "      <td>5</td>\n",
       "      <td>{'OSAAMISTAVOITTEET': ['The student has the kn...</td>\n",
       "      <td>https://sisu.aalto.fi/student/courseunit/otm-7...</td>\n",
       "      <td>Microbial Physiology D. The student has the kn...</td>\n",
       "      <td>microclubical physiology D. The student has th...</td>\n",
       "    </tr>\n",
       "    <tr>\n",
       "      <th>2</th>\n",
       "      <td>MS-EV0025</td>\n",
       "      <td>Algorithms for Solving Equilibrium Problems</td>\n",
       "      <td>5</td>\n",
       "      <td>{}</td>\n",
       "      <td>https://sisu.aalto.fi/student/courseunit/otm-d...</td>\n",
       "      <td>Algorithms for Solving Equilibrium Problems.</td>\n",
       "      <td>Algorithms for Solving Equilibrium Problems.</td>\n",
       "    </tr>\n",
       "    <tr>\n",
       "      <th>3</th>\n",
       "      <td>CS-C2160</td>\n",
       "      <td>Theory of Computation</td>\n",
       "      <td>5</td>\n",
       "      <td>{'OSAAMISTAVOITTEET': ['After the course you k...</td>\n",
       "      <td>https://sisu.aalto.fi/student/courseunit/otm-e...</td>\n",
       "      <td>Theory of Computation. After the course you kn...</td>\n",
       "      <td>Theory of Computing. After the course you know...</td>\n",
       "    </tr>\n",
       "    <tr>\n",
       "      <th>4</th>\n",
       "      <td>ELEC-E8120</td>\n",
       "      <td>Smart forestry machines</td>\n",
       "      <td>5</td>\n",
       "      <td>{'OSAAMISTAVOITTEET': ['Forest machines are be...</td>\n",
       "      <td>https://sisu.aalto.fi/student/courseunit/aalto...</td>\n",
       "      <td>Smart forestry machines. Forest machines are b...</td>\n",
       "      <td>Smart forestry machines. Forest machines are b...</td>\n",
       "    </tr>\n",
       "  </tbody>\n",
       "</table>\n",
       "</div>"
      ],
      "text/plain": [
       "  course_code                                  course_name credits  \\\n",
       "0  CHEM-C2430               Polymeeriteknologian perusteet       5   \n",
       "1  CHEM-E3121                       Microbial Physiology D       5   \n",
       "2   MS-EV0025  Algorithms for Solving Equilibrium Problems       5   \n",
       "3    CS-C2160                        Theory of Computation       5   \n",
       "4  ELEC-E8120                      Smart forestry machines       5   \n",
       "\n",
       "                                         course_info  \\\n",
       "0  {'OSAAMISTAVOITTEET': ['Kurssi antaa perusvalm...   \n",
       "1  {'OSAAMISTAVOITTEET': ['The student has the kn...   \n",
       "2                                                 {}   \n",
       "3  {'OSAAMISTAVOITTEET': ['After the course you k...   \n",
       "4  {'OSAAMISTAVOITTEET': ['Forest machines are be...   \n",
       "\n",
       "                                                 url  \\\n",
       "0  https://sisu.aalto.fi/student/courseunit/otm-3...   \n",
       "1  https://sisu.aalto.fi/student/courseunit/otm-7...   \n",
       "2  https://sisu.aalto.fi/student/courseunit/otm-d...   \n",
       "3  https://sisu.aalto.fi/student/courseunit/otm-e...   \n",
       "4  https://sisu.aalto.fi/student/courseunit/aalto...   \n",
       "\n",
       "                                  course_description  \\\n",
       "0  Polymeeriteknologian perusteet. Kurssi antaa p...   \n",
       "1  Microbial Physiology D. The student has the kn...   \n",
       "2      Algorithms for Solving Equilibrium Problems.    \n",
       "3  Theory of Computation. After the course you kn...   \n",
       "4  Smart forestry machines. Forest machines are b...   \n",
       "\n",
       "                               course_description_en  \n",
       "0  Basics of polymer technology. The course provi...  \n",
       "1  microclubical physiology D. The student has th...  \n",
       "2       Algorithms for Solving Equilibrium Problems.  \n",
       "3  Theory of Computing. After the course you know...  \n",
       "4  Smart forestry machines. Forest machines are b...  "
      ]
     },
     "metadata": {},
     "output_type": "display_data"
    }
   ],
   "source": [
    "display(df.head())"
   ]
  },
  {
   "cell_type": "code",
   "execution_count": 24,
   "metadata": {},
   "outputs": [],
   "source": [
    "search_df = df[[\"course_code\", \"course_name\", \"course_description_en\"]]"
   ]
  },
  {
   "cell_type": "code",
   "execution_count": 25,
   "metadata": {},
   "outputs": [
    {
     "data": {
      "text/html": [
       "<div>\n",
       "<style scoped>\n",
       "    .dataframe tbody tr th:only-of-type {\n",
       "        vertical-align: middle;\n",
       "    }\n",
       "\n",
       "    .dataframe tbody tr th {\n",
       "        vertical-align: top;\n",
       "    }\n",
       "\n",
       "    .dataframe thead th {\n",
       "        text-align: right;\n",
       "    }\n",
       "</style>\n",
       "<table border=\"1\" class=\"dataframe\">\n",
       "  <thead>\n",
       "    <tr style=\"text-align: right;\">\n",
       "      <th></th>\n",
       "      <th>course_code</th>\n",
       "      <th>course_name</th>\n",
       "      <th>course_description_en</th>\n",
       "    </tr>\n",
       "  </thead>\n",
       "  <tbody>\n",
       "    <tr>\n",
       "      <th>count</th>\n",
       "      <td>895</td>\n",
       "      <td>895</td>\n",
       "      <td>895</td>\n",
       "    </tr>\n",
       "    <tr>\n",
       "      <th>unique</th>\n",
       "      <td>895</td>\n",
       "      <td>847</td>\n",
       "      <td>856</td>\n",
       "    </tr>\n",
       "    <tr>\n",
       "      <th>top</th>\n",
       "      <td>CHEM-C2430</td>\n",
       "      <td>Vaihtuvasisältöinen opinto</td>\n",
       "      <td>A variable level of study.</td>\n",
       "    </tr>\n",
       "    <tr>\n",
       "      <th>freq</th>\n",
       "      <td>1</td>\n",
       "      <td>12</td>\n",
       "      <td>11</td>\n",
       "    </tr>\n",
       "  </tbody>\n",
       "</table>\n",
       "</div>"
      ],
      "text/plain": [
       "       course_code                 course_name       course_description_en\n",
       "count          895                         895                         895\n",
       "unique         895                         847                         856\n",
       "top     CHEM-C2430  Vaihtuvasisältöinen opinto  A variable level of study.\n",
       "freq             1                          12                          11"
      ]
     },
     "execution_count": 25,
     "metadata": {},
     "output_type": "execute_result"
    }
   ],
   "source": [
    "search_df.describe()"
   ]
  },
  {
   "cell_type": "code",
   "execution_count": 26,
   "metadata": {},
   "outputs": [
    {
     "data": {
      "text/html": [
       "<div>\n",
       "<style scoped>\n",
       "    .dataframe tbody tr th:only-of-type {\n",
       "        vertical-align: middle;\n",
       "    }\n",
       "\n",
       "    .dataframe tbody tr th {\n",
       "        vertical-align: top;\n",
       "    }\n",
       "\n",
       "    .dataframe thead th {\n",
       "        text-align: right;\n",
       "    }\n",
       "</style>\n",
       "<table border=\"1\" class=\"dataframe\">\n",
       "  <thead>\n",
       "    <tr style=\"text-align: right;\">\n",
       "      <th></th>\n",
       "      <th>course_code</th>\n",
       "      <th>course_name</th>\n",
       "      <th>course_description_en</th>\n",
       "    </tr>\n",
       "  </thead>\n",
       "  <tbody>\n",
       "  </tbody>\n",
       "</table>\n",
       "</div>"
      ],
      "text/plain": [
       "Empty DataFrame\n",
       "Columns: [course_code, course_name, course_description_en]\n",
       "Index: []"
      ]
     },
     "execution_count": 26,
     "metadata": {},
     "output_type": "execute_result"
    }
   ],
   "source": [
    "search_df.loc[df[\"course_name\"] == \"Advanced project-based management\"]"
   ]
  },
  {
   "cell_type": "code",
   "execution_count": 27,
   "metadata": {},
   "outputs": [
    {
     "data": {
      "text/plain": [
       "(895, 3)"
      ]
     },
     "execution_count": 27,
     "metadata": {},
     "output_type": "execute_result"
    }
   ],
   "source": [
    "search_df.shape"
   ]
  },
  {
   "cell_type": "code",
   "execution_count": null,
   "metadata": {},
   "outputs": [],
   "source": []
  },
  {
   "cell_type": "code",
   "execution_count": 31,
   "metadata": {},
   "outputs": [
    {
     "data": {
      "text/plain": [
       "[('Gaussian processes D. The course gives a comprehensive overview of Gaussian processes (GPs) in machine learning. After the course, the student can recognize where GPs can be used and know their limitations as well as their theoretical underpinnings. The student is familiar with the most common approximative inference methods for GPs and is familiar with their contemporary use and applications.Gaussian processes (GPs) are a powerful machine learning paradigm for Bayesian nonparametric moderating. This course will give an overview of Gausssian processes in learning, and it provides otherwise.',\n",
       "  0.5753849148750305),\n",
       " (\"Beginner's Python for Engineers. The student will get more familiar using python. The course has the following intensive learning outcomes: Reading and writing to files in different formats(Xml,Json,Csv) Installing, importing and using packages and libraries Use number, panda, science and matplotlib. Get familiar with lambda, zip, map and sort. Given a specific problem, define the input, calculation and output in pseudo-code Clean a dataset, perform diverse calculations (e.g. regression) on data, present findings with adaptive diagrams. Use vector and matrix to evaluate dataset, perform different calculations (e.g. regression) on data, present findings with approximate diagrams. Use and optimizations to improve data.\",\n",
       "  0.35425472259521484),\n",
       " ('Bayesian Filtering and Smoothing D. The student understands the principles behind the Bayesian basis of estimation in linear and nonlinear dynamic systems. The student understands the principles behind approximate filters and smoothers, and is able to use them in practice. The student knows how to estimate parameters online and offline in nonlinear systems.Statistic modeling and estimation in nonlinear and nonGaussian systems. Bayesian filtering and smoothing theory. Extended Kalman filters and smoothing, sigma point and unscented filtering and smoothing, sequential Monte Carlo particle filtering and smoothing. Extended Kalman filters and smoothing, sigma point and seamless filtering and smoothing, sequental Monte Carlo particle filtering and smoothing.',\n",
       "  0.35079461336135864),\n",
       " ('Kernel Methods in Machine Learning D. After targeting the course, the student knows the basics of kernels, positive-definiteness, and RKHS. The courses also formally involve the notifications of generalization in machine learning by studying the principle of Imperial Risk Minimization and its consistency. The student knows how to apply kernel optimization methods can be used to effectively learn Kernel-based and large-scale linear models.It is also discussed how to apply kernel based methods for unsupervised learning such as PCAIinner product spaces, Kernels and large-scale linear models.It is also discussed how to apply kernel based methods for unsupervised learning how and large-scale linear models.',\n",
       "  0.3501035273075104),\n",
       " ('Machine learning: Supervised Methods D. After the course, the student knows how to recognize and formalize supervised machine learning problems, how to implement basic optimisation algorithms for supervised learning problems, how to evaluate the performance supervised machine learning models, and has understanding of the statistical and computational limits of supervised machine learning, as well as the principles behind combined used machine learning models.Generalization error analysis and estimation; Model selection; Optimization and complexity; Linear models; Support vector machines and Kernel treatment; Selection;',\n",
       "  0.3414343595504761)]"
      ]
     },
     "execution_count": 31,
     "metadata": {},
     "output_type": "execute_result"
    }
   ],
   "source": [
    "model.top_k_sentences(\"learn gaussian method\", search_df[\"course_description_en\"].values, k=5)"
   ]
  },
  {
   "cell_type": "code",
   "execution_count": null,
   "metadata": {},
   "outputs": [],
   "source": []
  }
 ],
 "metadata": {
  "kernelspec": {
   "display_name": "nlp",
   "language": "python",
   "name": "python3"
  },
  "language_info": {
   "codemirror_mode": {
    "name": "ipython",
    "version": 3
   },
   "file_extension": ".py",
   "mimetype": "text/x-python",
   "name": "python",
   "nbconvert_exporter": "python",
   "pygments_lexer": "ipython3",
   "version": "3.12.0"
  },
  "orig_nbformat": 4,
  "vscode": {
   "interpreter": {
    "hash": "f0b684dd7ecae49ebbb2390a9988983890d2bf83ef9ab005b618a977a09cdde4"
   }
  }
 },
 "nbformat": 4,
 "nbformat_minor": 2
}
