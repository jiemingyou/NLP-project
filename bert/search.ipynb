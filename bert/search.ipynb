{
 "cells": [
  {
   "cell_type": "code",
   "execution_count": 1,
   "metadata": {},
   "outputs": [
    {
     "name": "stderr",
     "output_type": "stream",
     "text": [
      "/Users/eliastakala/opt/anaconda3/envs/nlp/lib/python3.12/site-packages/transformers/utils/generic.py:441: UserWarning: torch.utils._pytree._register_pytree_node is deprecated. Please use torch.utils._pytree.register_pytree_node instead.\n",
      "  _torch_pytree._register_pytree_node(\n",
      "/var/folders/ql/rm7jjn0d4t38p5bll26dqtw00000gn/T/ipykernel_82854/1457387875.py:2: DeprecationWarning: \n",
      "Pyarrow will become a required dependency of pandas in the next major release of pandas (pandas 3.0),\n",
      "(to allow more performant data types, such as the Arrow string type, and better interoperability with other libraries)\n",
      "but was not found to be installed on your system.\n",
      "If this would cause problems for you,\n",
      "please provide us feedback at https://github.com/pandas-dev/pandas/issues/54466\n",
      "        \n",
      "  import pandas as pd\n"
     ]
    }
   ],
   "source": [
    "from sentencebert import SentenceBert\n",
    "import pandas as pd\n",
    "import fastparquet"
   ]
  },
  {
   "cell_type": "code",
   "execution_count": 2,
   "metadata": {},
   "outputs": [
    {
     "name": "stderr",
     "output_type": "stream",
     "text": [
      "/Users/eliastakala/opt/anaconda3/envs/nlp/lib/python3.12/site-packages/transformers/utils/generic.py:309: UserWarning: torch.utils._pytree._register_pytree_node is deprecated. Please use torch.utils._pytree.register_pytree_node instead.\n",
      "  _torch_pytree._register_pytree_node(\n"
     ]
    }
   ],
   "source": [
    "model = SentenceBert()"
   ]
  },
  {
   "cell_type": "code",
   "execution_count": 3,
   "metadata": {},
   "outputs": [],
   "source": [
    "df = pd.read_parquet(\"translated_course_data.parquet\", engine=\"fastparquet\")"
   ]
  },
  {
   "cell_type": "code",
   "execution_count": 4,
   "metadata": {},
   "outputs": [
    {
     "data": {
      "text/html": [
       "<div>\n",
       "<style scoped>\n",
       "    .dataframe tbody tr th:only-of-type {\n",
       "        vertical-align: middle;\n",
       "    }\n",
       "\n",
       "    .dataframe tbody tr th {\n",
       "        vertical-align: top;\n",
       "    }\n",
       "\n",
       "    .dataframe thead th {\n",
       "        text-align: right;\n",
       "    }\n",
       "</style>\n",
       "<table border=\"1\" class=\"dataframe\">\n",
       "  <thead>\n",
       "    <tr style=\"text-align: right;\">\n",
       "      <th></th>\n",
       "      <th>course_code</th>\n",
       "      <th>course_name</th>\n",
       "      <th>credits</th>\n",
       "      <th>course_info</th>\n",
       "      <th>url</th>\n",
       "      <th>course_description</th>\n",
       "      <th>course_description_en</th>\n",
       "    </tr>\n",
       "  </thead>\n",
       "  <tbody>\n",
       "    <tr>\n",
       "      <th>0</th>\n",
       "      <td>CHEM-C2430</td>\n",
       "      <td>Polymeeriteknologian perusteet</td>\n",
       "      <td>5</td>\n",
       "      <td>{'OSAAMISTAVOITTEET': ['Kurssi antaa perusvalm...</td>\n",
       "      <td>https://sisu.aalto.fi/student/courseunit/otm-3...</td>\n",
       "      <td>Polymeeriteknologian perusteet. Kurssi antaa p...</td>\n",
       "      <td>Basics of polymer technology. The course provi...</td>\n",
       "    </tr>\n",
       "    <tr>\n",
       "      <th>1</th>\n",
       "      <td>CHEM-E3121</td>\n",
       "      <td>Microbial Physiology D</td>\n",
       "      <td>5</td>\n",
       "      <td>{'OSAAMISTAVOITTEET': ['The student has the kn...</td>\n",
       "      <td>https://sisu.aalto.fi/student/courseunit/otm-7...</td>\n",
       "      <td>Microbial Physiology D. The student has the kn...</td>\n",
       "      <td>microclubical physiology D. The student has th...</td>\n",
       "    </tr>\n",
       "    <tr>\n",
       "      <th>2</th>\n",
       "      <td>MS-EV0025</td>\n",
       "      <td>Algorithms for Solving Equilibrium Problems</td>\n",
       "      <td>5</td>\n",
       "      <td>{}</td>\n",
       "      <td>https://sisu.aalto.fi/student/courseunit/otm-d...</td>\n",
       "      <td>Algorithms for Solving Equilibrium Problems.</td>\n",
       "      <td>Algorithms for Solving Equilibrium Problems.</td>\n",
       "    </tr>\n",
       "    <tr>\n",
       "      <th>3</th>\n",
       "      <td>CS-C2160</td>\n",
       "      <td>Theory of Computation</td>\n",
       "      <td>5</td>\n",
       "      <td>{'OSAAMISTAVOITTEET': ['After the course you k...</td>\n",
       "      <td>https://sisu.aalto.fi/student/courseunit/otm-e...</td>\n",
       "      <td>Theory of Computation. After the course you kn...</td>\n",
       "      <td>Theory of Computing. After the course you know...</td>\n",
       "    </tr>\n",
       "    <tr>\n",
       "      <th>4</th>\n",
       "      <td>ELEC-E8120</td>\n",
       "      <td>Smart forestry machines</td>\n",
       "      <td>5</td>\n",
       "      <td>{'OSAAMISTAVOITTEET': ['Forest machines are be...</td>\n",
       "      <td>https://sisu.aalto.fi/student/courseunit/aalto...</td>\n",
       "      <td>Smart forestry machines. Forest machines are b...</td>\n",
       "      <td>Smart forestry machines. Forest machines are b...</td>\n",
       "    </tr>\n",
       "  </tbody>\n",
       "</table>\n",
       "</div>"
      ],
      "text/plain": [
       "  course_code                                  course_name credits  \\\n",
       "0  CHEM-C2430               Polymeeriteknologian perusteet       5   \n",
       "1  CHEM-E3121                       Microbial Physiology D       5   \n",
       "2   MS-EV0025  Algorithms for Solving Equilibrium Problems       5   \n",
       "3    CS-C2160                        Theory of Computation       5   \n",
       "4  ELEC-E8120                      Smart forestry machines       5   \n",
       "\n",
       "                                         course_info  \\\n",
       "0  {'OSAAMISTAVOITTEET': ['Kurssi antaa perusvalm...   \n",
       "1  {'OSAAMISTAVOITTEET': ['The student has the kn...   \n",
       "2                                                 {}   \n",
       "3  {'OSAAMISTAVOITTEET': ['After the course you k...   \n",
       "4  {'OSAAMISTAVOITTEET': ['Forest machines are be...   \n",
       "\n",
       "                                                 url  \\\n",
       "0  https://sisu.aalto.fi/student/courseunit/otm-3...   \n",
       "1  https://sisu.aalto.fi/student/courseunit/otm-7...   \n",
       "2  https://sisu.aalto.fi/student/courseunit/otm-d...   \n",
       "3  https://sisu.aalto.fi/student/courseunit/otm-e...   \n",
       "4  https://sisu.aalto.fi/student/courseunit/aalto...   \n",
       "\n",
       "                                  course_description  \\\n",
       "0  Polymeeriteknologian perusteet. Kurssi antaa p...   \n",
       "1  Microbial Physiology D. The student has the kn...   \n",
       "2      Algorithms for Solving Equilibrium Problems.    \n",
       "3  Theory of Computation. After the course you kn...   \n",
       "4  Smart forestry machines. Forest machines are b...   \n",
       "\n",
       "                               course_description_en  \n",
       "0  Basics of polymer technology. The course provi...  \n",
       "1  microclubical physiology D. The student has th...  \n",
       "2       Algorithms for Solving Equilibrium Problems.  \n",
       "3  Theory of Computing. After the course you know...  \n",
       "4  Smart forestry machines. Forest machines are b...  "
      ]
     },
     "metadata": {},
     "output_type": "display_data"
    }
   ],
   "source": [
    "display(df.head())"
   ]
  },
  {
   "cell_type": "code",
   "execution_count": 5,
   "metadata": {},
   "outputs": [],
   "source": [
    "search_df = df[[\"course_code\", \"course_name\", \"course_description_en\"]]"
   ]
  },
  {
   "cell_type": "code",
   "execution_count": 6,
   "metadata": {},
   "outputs": [
    {
     "data": {
      "text/html": [
       "<div>\n",
       "<style scoped>\n",
       "    .dataframe tbody tr th:only-of-type {\n",
       "        vertical-align: middle;\n",
       "    }\n",
       "\n",
       "    .dataframe tbody tr th {\n",
       "        vertical-align: top;\n",
       "    }\n",
       "\n",
       "    .dataframe thead th {\n",
       "        text-align: right;\n",
       "    }\n",
       "</style>\n",
       "<table border=\"1\" class=\"dataframe\">\n",
       "  <thead>\n",
       "    <tr style=\"text-align: right;\">\n",
       "      <th></th>\n",
       "      <th>course_code</th>\n",
       "      <th>course_name</th>\n",
       "      <th>course_description_en</th>\n",
       "    </tr>\n",
       "  </thead>\n",
       "  <tbody>\n",
       "    <tr>\n",
       "      <th>count</th>\n",
       "      <td>895</td>\n",
       "      <td>895</td>\n",
       "      <td>895</td>\n",
       "    </tr>\n",
       "    <tr>\n",
       "      <th>unique</th>\n",
       "      <td>895</td>\n",
       "      <td>847</td>\n",
       "      <td>856</td>\n",
       "    </tr>\n",
       "    <tr>\n",
       "      <th>top</th>\n",
       "      <td>CHEM-C2430</td>\n",
       "      <td>Vaihtuvasisältöinen opinto</td>\n",
       "      <td>A variable level of study.</td>\n",
       "    </tr>\n",
       "    <tr>\n",
       "      <th>freq</th>\n",
       "      <td>1</td>\n",
       "      <td>12</td>\n",
       "      <td>11</td>\n",
       "    </tr>\n",
       "  </tbody>\n",
       "</table>\n",
       "</div>"
      ],
      "text/plain": [
       "       course_code                 course_name       course_description_en\n",
       "count          895                         895                         895\n",
       "unique         895                         847                         856\n",
       "top     CHEM-C2430  Vaihtuvasisältöinen opinto  A variable level of study.\n",
       "freq             1                          12                          11"
      ]
     },
     "execution_count": 6,
     "metadata": {},
     "output_type": "execute_result"
    }
   ],
   "source": [
    "search_df.describe()"
   ]
  },
  {
   "cell_type": "code",
   "execution_count": 7,
   "metadata": {},
   "outputs": [
    {
     "data": {
      "text/html": [
       "<div>\n",
       "<style scoped>\n",
       "    .dataframe tbody tr th:only-of-type {\n",
       "        vertical-align: middle;\n",
       "    }\n",
       "\n",
       "    .dataframe tbody tr th {\n",
       "        vertical-align: top;\n",
       "    }\n",
       "\n",
       "    .dataframe thead th {\n",
       "        text-align: right;\n",
       "    }\n",
       "</style>\n",
       "<table border=\"1\" class=\"dataframe\">\n",
       "  <thead>\n",
       "    <tr style=\"text-align: right;\">\n",
       "      <th></th>\n",
       "      <th>course_code</th>\n",
       "      <th>course_name</th>\n",
       "      <th>course_description_en</th>\n",
       "    </tr>\n",
       "  </thead>\n",
       "  <tbody>\n",
       "  </tbody>\n",
       "</table>\n",
       "</div>"
      ],
      "text/plain": [
       "Empty DataFrame\n",
       "Columns: [course_code, course_name, course_description_en]\n",
       "Index: []"
      ]
     },
     "execution_count": 7,
     "metadata": {},
     "output_type": "execute_result"
    }
   ],
   "source": [
    "search_df.loc[df[\"course_name\"] == \"Advanced project-based management\"]"
   ]
  },
  {
   "cell_type": "code",
   "execution_count": 8,
   "metadata": {},
   "outputs": [
    {
     "data": {
      "text/plain": [
       "(895, 3)"
      ]
     },
     "execution_count": 8,
     "metadata": {},
     "output_type": "execute_result"
    }
   ],
   "source": [
    "search_df.shape"
   ]
  },
  {
   "cell_type": "code",
   "execution_count": 9,
   "metadata": {},
   "outputs": [],
   "source": [
    "embeddings = model.encode(search_df[\"course_description_en\"].values)"
   ]
  },
  {
   "cell_type": "code",
   "execution_count": 12,
   "metadata": {},
   "outputs": [
    {
     "data": {
      "text/plain": [
       "[('Basics in Programming Y1. After the course student can implement small programs using Python language and can apply basic programming concepts in solving small programming problems. After the course student understands the basic functionality of a computer device, and how it is controlled using a computer program.Functionality of a computer device. Basic programming tools and structures, such as variable, Lodges, conditional states, functions and classes. Simple algorithms for common problems.',\n",
       "  0.5721786022186279),\n",
       " (\"Beginner's Python for Engineers. The student will get more familiar using python. The course has the following intensive learning outcomes: Reading and writing to files in different formats(Xml,Json,Csv) Installing, importing and using packages and libraries Use number, panda, science and matplotlib. Get familiar with lambda, zip, map and sort. Given a specific problem, define the input, calculation and output in pseudo-code Clean a dataset, perform diverse calculations (e.g. regression) on data, present findings with adaptive diagrams. Use vector and matrix to evaluate dataset, perform different calculations (e.g. regression) on data, present findings with approximate diagrams. Use and optimizations to improve data.\",\n",
       "  0.5505867004394531),\n",
       " ('Basic course in programming Y1. After completing the course, you will be able to write small computer programs, for example, for calculation applications required for engineering tasks and for editing small amounts of data. You will also understand programs similar to those written by others.Language-language programming with Python language, structured programming, software design basics, basic data structures. Good programming style.',\n",
       "  0.5394395589828491),\n",
       " ('Basic course in programming Y2. After this course, you will be able to design and implement an independent object program consisting of numerous classes. You will understand and know how to use the more advanced features of object programming, such as inheritance in a diverse way. You will understand the impact of the choices you make in planning and implementation on both the operation of the program and the programming process, especially in the further development of the program. You will be able to justify and document your key choices in the programming process. You will be able to utilize unit testing in programming and use an integrated development environment. You will know the basic ideas of parallel programming and you will be able to apply these in simple cases. You will be able to search for information about the documentation and network of programming languages and libraries.The basics, techniques and methods of software design; programming tools. More advanced programming abstractions. The project includes not only programming work, but also the planning and documentation of work.',\n",
       "  0.4536490738391876),\n",
       " (\"Programming 1. After completing the course, programming is useful and fun for you, and you are motivated to learn more. You know the key concepts of programming and object programming paradigm and are able to discuss them. You know how to apply the concepts you know while reading and writing computer programs at least in cases where the programming task is strictly limited. At least you know how a computer works when performing the program. You know the work steps related to the production of program code and you know how to use the programmer's tools during these stages. You know how to read programs and program documentation written by others, as well as make use of ready-made partial solutions as parts of your own programs. You understand that programs are not written only for computers but for people to help and also for people to read. You know how to format the code you write with a good programming style of programming. Central content: Programming, imperative programming, object-based programming; reading of programs; editing and embedding of programs to conform to specifications; sentences and phrase; data types, functions, returns, values, classes, methods, methods, processes, transcripting methods, transcriptionals, and configurative functions.\",\n",
       "  0.4409428834915161),\n",
       " ('Mathematics software. The student is able to read, edit, save and display data graphically, make simple programs and solve simple tasks using math software. Central functions and programming, as well as data processing and display with Matlab, in addition to possibly basic functions from other programs.',\n",
       "  0.42759522795677185),\n",
       " (\"Programmatic hardware design. After the course, the student -Can work fluently in the Unix operating system environment -Part of the basics of Unix command languages -Part of the basics of version management -Can model simple digital, often signal processing, systems in Python language -Understands the principles of simple hardware description language descriptions. -Can implement simple digital systems on the FPGA platform.The electronics designer of the future must understand the hardware software interface and the limitations of hardware software software. The design methodology also requires good programming basic skills, as electronics design makes extensive use of programming. The course introduces you to the design process of an electronic device in such a way that hardware modeling, simulation and ultimately control, as well as the interface are combined into a single programmatic entity. With the course, the student's programming skills are developed in a direction that supports hardware design and he/she is familiar with effective software engineering from the point of view of electronic design. The course explores typical programming environments and goes through the various phases of programical hardware design to the implementation of the model. The course provides the student with an excellent starting point of programming hardware design in the later stages.\",\n",
       "  0.42030903697013855),\n",
       " ('Basics in Programming Y2. After taking the course you can design and implement an object-oriented programme considering of several classes. You are able to use object-oriented abstractions such inheritance. You understand the effects of design decisions on the functionality of programme and on the programme development process, especially on the further development of the code. You can justify and document the key design decisions made during the process. You know how to use unit testing in the programme development. You can use tools in an integral development environment. You know the basics of engineering and how to implement the programme development. You can use tools in an integral development environment. You know how to implement the programme development.',\n",
       "  0.39549553394317627),\n",
       " ('Linux Basics. After the course, the student will master the basic use of the Linux-based system from the time it is installed. Installing the Linux system, configuring, basic use of the command line and simple scripts.',\n",
       "  0.39314156770706177),\n",
       " ('Chemical Engineering Programming course. After completing the course, the student: - is able to write small programs for chemical engineering applications, such as processing, analysis and visualization of measurement data - Understands program code written by others and is able to customize it to their own needs - Knows the most important programming environments and program libraries for chemical engineering applications and is able to utilize them. Programming in Python programming language, software design basics and good programming practices, basic data structures, data processing, analysis and visualization.',\n",
       "  0.3930797576904297)]"
      ]
     },
     "execution_count": 12,
     "metadata": {},
     "output_type": "execute_result"
    }
   ],
   "source": [
    "model.top_k_sentences(\"i want to learn python and mathematcis\", search_df[\"course_description_en\"].values, embeddings, k=10)"
   ]
  },
  {
   "cell_type": "code",
   "execution_count": null,
   "metadata": {},
   "outputs": [],
   "source": []
  }
 ],
 "metadata": {
  "kernelspec": {
   "display_name": "nlp",
   "language": "python",
   "name": "python3"
  },
  "language_info": {
   "codemirror_mode": {
    "name": "ipython",
    "version": 3
   },
   "file_extension": ".py",
   "mimetype": "text/x-python",
   "name": "python",
   "nbconvert_exporter": "python",
   "pygments_lexer": "ipython3",
   "version": "3.12.0"
  },
  "orig_nbformat": 4,
  "vscode": {
   "interpreter": {
    "hash": "f0b684dd7ecae49ebbb2390a9988983890d2bf83ef9ab005b618a977a09cdde4"
   }
  }
 },
 "nbformat": 4,
 "nbformat_minor": 2
}
