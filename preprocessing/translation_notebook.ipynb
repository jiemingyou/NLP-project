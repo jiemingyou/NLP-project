{
 "cells": [
  {
   "cell_type": "code",
   "execution_count": 1,
   "metadata": {},
   "outputs": [
    {
     "data": {
      "application/vnd.jupyter.widget-view+json": {
       "model_id": "165286de495f494081d59b107ca76600",
       "version_major": 2,
       "version_minor": 0
      },
      "text/plain": [
       "Map:   0%|          | 0/20 [00:00<?, ? examples/s]"
      ]
     },
     "metadata": {},
     "output_type": "display_data"
    },
    {
     "data": {
      "application/vnd.jupyter.widget-view+json": {
       "model_id": "5a01682c67304f9eb990709ecca1bb79",
       "version_major": 2,
       "version_minor": 0
      },
      "text/plain": [
       "Creating parquet from Arrow format:   0%|          | 0/1 [00:00<?, ?ba/s]"
      ]
     },
     "metadata": {},
     "output_type": "display_data"
    },
    {
     "data": {
      "text/plain": [
       "48218"
      ]
     },
     "execution_count": 1,
     "metadata": {},
     "output_type": "execute_result"
    }
   ],
   "source": [
    "import pandas as pd\n",
    "from datasets import Dataset\n",
    "from preprocessing_utils import concat_course_info\n",
    "from translator import Translator\n",
    "\n",
    "# Load the data\n",
    "df = pd.read_csv(\"../scraper/data/course_data.csv\")\n",
    "\n",
    "# Apply the translation pipeline\n",
    "df[\"course_description\"] = df.apply(concat_course_info, axis=1)\n",
    "\n",
    "# Create a dataset\n",
    "dataset = Dataset.from_pandas(df.sample(20))\n",
    "\n",
    "# Apply the translation pipeline\n",
    "translator = Translator(model_name=\"Helsinki-NLP/opus-tatoeba-fi-en\")\n",
    "dataset = translator.translate_dataset(dataset)\n",
    "\n",
    "# Save the dataset\n",
    "dataset = dataset.remove_columns([\"__index_level_0__\"])\n",
    "dataset.to_parquet(\"translated_course_data.parquet\")"
   ]
  },
  {
   "cell_type": "code",
   "execution_count": null,
   "metadata": {},
   "outputs": [],
   "source": [
    "pd.read_parquet(\"translated_course_data.parquet\")"
   ]
  }
 ],
 "metadata": {
  "kernelspec": {
   "display_name": "ray",
   "language": "python",
   "name": "python3"
  },
  "language_info": {
   "codemirror_mode": {
    "name": "ipython",
    "version": 3
   },
   "file_extension": ".py",
   "mimetype": "text/x-python",
   "name": "python",
   "nbconvert_exporter": "python",
   "pygments_lexer": "ipython3",
   "version": "3.10.13"
  }
 },
 "nbformat": 4,
 "nbformat_minor": 2
}
