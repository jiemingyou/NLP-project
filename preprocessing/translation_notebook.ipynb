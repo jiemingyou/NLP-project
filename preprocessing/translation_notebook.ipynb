{
 "cells": [
  {
   "cell_type": "code",
   "execution_count": null,
   "metadata": {},
   "outputs": [],
   "source": [
    "import pandas as pd\n",
    "from datasets import Dataset\n",
    "from preprocessing_utils import concat_course_info\n",
    "from translator import Translator\n",
    "\n",
    "# Load the data\n",
    "df = pd.read_csv(\"../scraper/data/course_data.csv\")\n",
    "\n",
    "# Apply the concatenation function\n",
    "df[\"course_description\"] = df.apply(concat_course_info, axis=1)\n",
    "\n",
    "# Create a dataset\n",
    "dataset = Dataset.from_pandas(df.sample(20))\n",
    "\n",
    "# Apply the translation pipeline\n",
    "translator = Translator(model_name=\"Helsinki-NLP/opus-tatoeba-fi-en\")\n",
    "dataset = translator.translate_dataset(dataset, \"course_description\")\n",
    "\n",
    "# Save the dataset\n",
    "dataset = dataset.remove_columns([\"__index_level_0__\"])\n",
    "dataset.to_parquet(\"translated_course_data.parquet\")"
   ]
  },
  {
   "cell_type": "code",
   "execution_count": 6,
   "metadata": {},
   "outputs": [],
   "source": [
    "import pandas as pd\n",
    "pd.set_option('display.max_colwidth', None)\n",
    "df = pd.read_parquet(\"translated_course_data.parquet\")"
   ]
  },
  {
   "cell_type": "code",
   "execution_count": 19,
   "metadata": {},
   "outputs": [
    {
     "data": {
      "text/html": [
       "<div>\n",
       "<style scoped>\n",
       "    .dataframe tbody tr th:only-of-type {\n",
       "        vertical-align: middle;\n",
       "    }\n",
       "\n",
       "    .dataframe tbody tr th {\n",
       "        vertical-align: top;\n",
       "    }\n",
       "\n",
       "    .dataframe thead th {\n",
       "        text-align: right;\n",
       "    }\n",
       "</style>\n",
       "<table border=\"1\" class=\"dataframe\">\n",
       "  <thead>\n",
       "    <tr style=\"text-align: right;\">\n",
       "      <th></th>\n",
       "      <th>course_description</th>\n",
       "      <th>course_description_en</th>\n",
       "    </tr>\n",
       "  </thead>\n",
       "  <tbody>\n",
       "    <tr>\n",
       "      <th>64</th>\n",
       "      <td>Teknillisen psykologian tutkimusprojekti. Osaat suunnitella kokeellisen tutkimuksen koeasetelman ja toteuttaa ja analysoida sen itsenäisesti. Ymmärrät kokeellisen tutkimuksen teoreettiset ja  tilastolliset perusteet. Olet tutustunut moderneihin mitta- ja kontrollitekniikoihin.Kokeen suunnittelu, toteutus, raportointi ja analyysi. Itsenäinen kokeellisen tutkimuksen kokonaisuuden hallinta. Tilastotieteellinen analyysi kokeellisessa tutkimuksessa.</td>\n",
       "      <td>Research project in technical psychology. You are able to design and independently implement and analyze experimental research. You understand the theoretical and statistical foundations of experimental research. You are familiar with modern measurement and control techniques. Design, implementation, reporting and analysis of the experiment. Independent management of the whole experimental research. Statistical analysis in experimental research.</td>\n",
       "    </tr>\n",
       "    <tr>\n",
       "      <th>643</th>\n",
       "      <td>Riskianalyysi D. Opiskelija hallitsee riskianalyysin keskeiset käsitteet ja menetelmät sekä osaa soveltaa niitä teknisten järjestelmiä koskevissa tarkasteluissa.Kurssi perehdyttää riskinalyysin keskeisimpiin menetelmiin ja antaa valmiudet soveltaa niitä erilaisten teknis-taloudellisten järjestelmien riskitarkasteluissa (ml. riskien tunnistaminen ja arviointi, riskienhallintatoimenpiteiden vertailu ja priorisointi, riskiviestintä). Käsiteltäviä menetelmiä ovat muun muassa vikapuut, syy-seuraus-kaaviot sekä todennäköisyyspohjainen turvallisuusanalyysi. Kurssilla perehdytään myös todennäköisyyksien estimointiin sekä asiantuntija-arvioiden että tilastollisten menetelmien pohjalta. Luennot ja laskuharjoitukset sisältävät riskianalyysien laatimista ja käyttöä havainnollistavia esimerkkejä.</td>\n",
       "      <td>Risk analysis D. The student masteres the key concepts and methods of risk analysis and is able to apply them in the reviews of technical systems. The course familiarizes with the main methods of risk analysis and provides the ability to apply them in risk assessments of various technical and economic systems (including risk identification and assessment, comparison and prioritisation of risk management measures, risk communication). The methods to be considered include fault trees, cause-and-effect diagrams, and probability-based safety analysis. The course also familiarizes with the estimation of probabilities based on both expert assessments and statistical methods. Lectures and calculations include examples illustrating the preparation and use of risk analyses.</td>\n",
       "    </tr>\n",
       "    <tr>\n",
       "      <th>686</th>\n",
       "      <td>Vaihtuvasisältöinen opinto.</td>\n",
       "      <td>A variable level of study.</td>\n",
       "    </tr>\n",
       "    <tr>\n",
       "      <th>235</th>\n",
       "      <td>Advanced Topics in Cryptography V D.</td>\n",
       "      <td>Advanced Topics in Cryptography V D.</td>\n",
       "    </tr>\n",
       "    <tr>\n",
       "      <th>316</th>\n",
       "      <td>Tuotantotalous 1. Kurssin tavoitteena on antaa opiskelijalle perusvalmiudet tuotantotaloudelliseen ajatteluun, argumentointiin ja analyysiin. Kurssin suoritettuaan opiskelija hallitsee tuotantotalouden peruskäsitteet ja ymmärtää keskeisimmät dynamiikat, ja pystyy näiden kautta ymmärtämään ja arvioimaan liiketoimintamahdollisuuksia, suunitelemaan ja arvioimaan liiketoimintaprosesseja sekä analysoimaan yrityksen taloudellista tilaa. Kurssilla opiskelija oppii myös yleisiä insinöörityön valmiuksia kuten projektin suunnittelua, organisointia ja hallintaa.Tuotantotalous tieteenä; Arvo liiketoiminnan perustana; Tuotantojärjestelmät ja organisaatiot; Tuotantoprosessi ja tuotannon ohjaus; Tuotanto osana arvoketjua; Projektit ja investoinnit; Laskentatoimi ja kannattavuus.</td>\n",
       "      <td>Industrial Engineering 1. The objective of the course is to provide the student with basic skills in production economic thinking, argumentation and analysis. After completing the course, the student will master the basic concepts of production economics and understand the key dynamics, and will be able through these to understand and evaluate business opportunities, plan and evaluate business processes, and analyze the financial status of the company. During the course, the student will also learn general engineering skills such as project planning, organization and management.Production economics as a science; Value as a business foundation; Production systems and organizations; Production process and production control; Production as part of the value chain; Projects and investments; Accounting function and profitability.</td>\n",
       "    </tr>\n",
       "  </tbody>\n",
       "</table>\n",
       "</div>"
      ],
      "text/plain": [
       "                                                                                                                                                                                                                                                                                                                                                                                                                                                                                                                                                                                                                                                                                                                                                                                                             course_description  \\\n",
       "64                                                                                                                                                                                                                                                                                                                                                             Teknillisen psykologian tutkimusprojekti. Osaat suunnitella kokeellisen tutkimuksen koeasetelman ja toteuttaa ja analysoida sen itsenäisesti. Ymmärrät kokeellisen tutkimuksen teoreettiset ja  tilastolliset perusteet. Olet tutustunut moderneihin mitta- ja kontrollitekniikoihin.Kokeen suunnittelu, toteutus, raportointi ja analyysi. Itsenäinen kokeellisen tutkimuksen kokonaisuuden hallinta. Tilastotieteellinen analyysi kokeellisessa tutkimuksessa.   \n",
       "643  Riskianalyysi D. Opiskelija hallitsee riskianalyysin keskeiset käsitteet ja menetelmät sekä osaa soveltaa niitä teknisten järjestelmiä koskevissa tarkasteluissa.Kurssi perehdyttää riskinalyysin keskeisimpiin menetelmiin ja antaa valmiudet soveltaa niitä erilaisten teknis-taloudellisten järjestelmien riskitarkasteluissa (ml. riskien tunnistaminen ja arviointi, riskienhallintatoimenpiteiden vertailu ja priorisointi, riskiviestintä). Käsiteltäviä menetelmiä ovat muun muassa vikapuut, syy-seuraus-kaaviot sekä todennäköisyyspohjainen turvallisuusanalyysi. Kurssilla perehdytään myös todennäköisyyksien estimointiin sekä asiantuntija-arvioiden että tilastollisten menetelmien pohjalta. Luennot ja laskuharjoitukset sisältävät riskianalyysien laatimista ja käyttöä havainnollistavia esimerkkejä.   \n",
       "686                                                                                                                                                                                                                                                                                                                                                                                                                                                                                                                                                                                                                                                                                                                                                                                                Vaihtuvasisältöinen opinto.    \n",
       "235                                                                                                                                                                                                                                                                                                                                                                                                                                                                                                                                                                                                                                                                                                                                                                                       Advanced Topics in Cryptography V D.    \n",
       "316                      Tuotantotalous 1. Kurssin tavoitteena on antaa opiskelijalle perusvalmiudet tuotantotaloudelliseen ajatteluun, argumentointiin ja analyysiin. Kurssin suoritettuaan opiskelija hallitsee tuotantotalouden peruskäsitteet ja ymmärtää keskeisimmät dynamiikat, ja pystyy näiden kautta ymmärtämään ja arvioimaan liiketoimintamahdollisuuksia, suunitelemaan ja arvioimaan liiketoimintaprosesseja sekä analysoimaan yrityksen taloudellista tilaa. Kurssilla opiskelija oppii myös yleisiä insinöörityön valmiuksia kuten projektin suunnittelua, organisointia ja hallintaa.Tuotantotalous tieteenä; Arvo liiketoiminnan perustana; Tuotantojärjestelmät ja organisaatiot; Tuotantoprosessi ja tuotannon ohjaus; Tuotanto osana arvoketjua; Projektit ja investoinnit; Laskentatoimi ja kannattavuus.   \n",
       "\n",
       "                                                                                                                                                                                                                                                                                                                                                                                                                                                                                                                                                                                                                                                                                                                                                                                                                                                    course_description_en  \n",
       "64                                                                                                                                                                                                                                                                                                                                                                                                      Research project in technical psychology. You are able to design and independently implement and analyze experimental research. You understand the theoretical and statistical foundations of experimental research. You are familiar with modern measurement and control techniques. Design, implementation, reporting and analysis of the experiment. Independent management of the whole experimental research. Statistical analysis in experimental research.  \n",
       "643                                                               Risk analysis D. The student masteres the key concepts and methods of risk analysis and is able to apply them in the reviews of technical systems. The course familiarizes with the main methods of risk analysis and provides the ability to apply them in risk assessments of various technical and economic systems (including risk identification and assessment, comparison and prioritisation of risk management measures, risk communication). The methods to be considered include fault trees, cause-and-effect diagrams, and probability-based safety analysis. The course also familiarizes with the estimation of probabilities based on both expert assessments and statistical methods. Lectures and calculations include examples illustrating the preparation and use of risk analyses.  \n",
       "686                                                                                                                                                                                                                                                                                                                                                                                                                                                                                                                                                                                                                                                                                                                                                                                                                                            A variable level of study.  \n",
       "235                                                                                                                                                                                                                                                                                                                                                                                                                                                                                                                                                                                                                                                                                                                                                                                                                                  Advanced Topics in Cryptography V D.  \n",
       "316  Industrial Engineering 1. The objective of the course is to provide the student with basic skills in production economic thinking, argumentation and analysis. After completing the course, the student will master the basic concepts of production economics and understand the key dynamics, and will be able through these to understand and evaluate business opportunities, plan and evaluate business processes, and analyze the financial status of the company. During the course, the student will also learn general engineering skills such as project planning, organization and management.Production economics as a science; Value as a business foundation; Production systems and organizations; Production process and production control; Production as part of the value chain; Projects and investments; Accounting function and profitability.  "
      ]
     },
     "execution_count": 19,
     "metadata": {},
     "output_type": "execute_result"
    }
   ],
   "source": [
    "df[[\"course_description\", \"course_description_en\"]].sample(5)"
   ]
  },
  {
   "cell_type": "code",
   "execution_count": null,
   "metadata": {},
   "outputs": [],
   "source": []
  }
 ],
 "metadata": {
  "kernelspec": {
   "display_name": "ray",
   "language": "python",
   "name": "python3"
  },
  "language_info": {
   "codemirror_mode": {
    "name": "ipython",
    "version": 3
   },
   "file_extension": ".py",
   "mimetype": "text/x-python",
   "name": "python",
   "nbconvert_exporter": "python",
   "pygments_lexer": "ipython3",
   "version": "3.10.13"
  }
 },
 "nbformat": 4,
 "nbformat_minor": 2
}
