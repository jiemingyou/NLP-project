{
 "cells": [
  {
   "cell_type": "code",
   "execution_count": 1,
   "metadata": {},
   "outputs": [],
   "source": [
    "from openai import OpenAI\n",
    "client = OpenAI()\n",
    "\n",
    "def get_embedding(text, model=\"text-embedding-3-small\"):\n",
    "   text = text.replace(\"\\n\", \" \")\n",
    "   return client.embeddings.create(input = [text], model=model).data[0].embedding"
   ]
  },
  {
   "cell_type": "code",
   "execution_count": null,
   "metadata": {},
   "outputs": [],
   "source": [
    "import numpy as np\n",
    "import pandas as pd\n",
    "\n",
    "df = pd.read_csv('../preprocessing/translated_course_data_V2.csv')\n",
    "df['embedding'] = df[\"course_description_en\"].apply(lambda x: get_embedding(x, model='text-embedding-3-small'))"
   ]
  },
  {
   "cell_type": "code",
   "execution_count": 19,
   "metadata": {},
   "outputs": [],
   "source": [
    "df.to_csv('course_data_with_embeddings.csv', index=False)"
   ]
  },
  {
   "cell_type": "code",
   "execution_count": null,
   "metadata": {},
   "outputs": [],
   "source": [
    "import seaborn as sns\n",
    "import numpy as np\n",
    "from sklearn.manifold import TSNE\n",
    "import matplotlib.pyplot as plt\n",
    "\n",
    "df[\"embedding\"] = df[\"embedding\"].apply(lambda x: np.array(x))\n",
    "\n",
    "# Keep the top 3 faculties\n",
    "X = df.embedding\n",
    "faculty = df[\"course_code\"].str.split(\"-\", expand=True)[0]\n",
    "top_faculties = faculty.value_counts().index[:3]\n",
    "mask = faculty.isin(top_faculties)\n",
    "X_masked = np.stack(X[mask].to_numpy())\n",
    "\n",
    "reduced = TSNE(\n",
    "    n_components=2,\n",
    "    perplexity=40,\n",
    "    n_iter=5000,\n",
    ").fit_transform(X_masked)\n",
    "\n",
    "# Faculty labels\n",
    "_, faculty_labels = np.unique(faculty[mask].values, return_inverse=True)\n",
    "\n",
    "\n",
    "# Plot\n",
    "fig, ax = plt.subplots(figsize=(5, 5))\n",
    "scatter = ax.scatter(\n",
    "    reduced[:, 0],\n",
    "    reduced[:, 1],\n",
    "    c=faculty_labels,\n",
    ")\n",
    "\n",
    "# Legend\n",
    "legend1 = ax.legend(\n",
    "    scatter.legend_elements()[0],\n",
    "    top_faculties,\n",
    "    title=\"Faculty\",\n",
    ")\n",
    "\n",
    "sns.despine()\n",
    "ax.grid(alpha=0.2)\n",
    "ax.set_axisbelow(True)\n",
    "ax.set_xticks([])\n",
    "ax.set_yticks([])\n",
    "ax.set_title(\"OpenAI embeddings in 2D\", fontweight=\"bold\")\n",
    "ax.set_xlabel(\"1st component\")\n",
    "ax.set_ylabel(\"2nd component\")\n",
    "\n",
    "fig.tight_layout()\n",
    "plt.show()"
   ]
  },
  {
   "cell_type": "code",
   "execution_count": null,
   "metadata": {},
   "outputs": [],
   "source": []
  }
 ],
 "metadata": {
  "kernelspec": {
   "display_name": "ray",
   "language": "python",
   "name": "python3"
  },
  "language_info": {
   "codemirror_mode": {
    "name": "ipython",
    "version": 3
   },
   "file_extension": ".py",
   "mimetype": "text/x-python",
   "name": "python",
   "nbconvert_exporter": "python",
   "pygments_lexer": "ipython3",
   "version": "3.10.13"
  }
 },
 "nbformat": 4,
 "nbformat_minor": 2
}
