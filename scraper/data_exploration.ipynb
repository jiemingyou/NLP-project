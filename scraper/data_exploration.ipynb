{
 "cells": [
  {
   "cell_type": "code",
   "execution_count": 11,
   "metadata": {},
   "outputs": [],
   "source": [
    "import pandas as pd\n",
    "import random\n",
    "from pprint import pprint"
   ]
  },
  {
   "cell_type": "code",
   "execution_count": 29,
   "metadata": {},
   "outputs": [
    {
     "data": {
      "text/plain": [
       "'https://sisu.aalto.fi/student/courseunit/otm-3526e752-92af-43b8-8acb-c0a61e04d584'"
      ]
     },
     "execution_count": 29,
     "metadata": {},
     "output_type": "execute_result"
    }
   ],
   "source": [
    "df = pd.read_csv('data/course_data.csv')\n",
    "df.head(1).url.item()"
   ]
  },
  {
   "cell_type": "code",
   "execution_count": 35,
   "metadata": {},
   "outputs": [
    {
     "name": "stdout",
     "output_type": "stream",
     "text": [
      "{'ASIASISÄLTÖ': ['A research project can be an extended laboratory work, '\n",
      "                 'molecular dynamics simulation or some other theoretical '\n",
      "                 'work. The student becomes acquainted with the project '\n",
      "                 'through a literature survey, makes the project and reports '\n",
      "                 'it either in the form of a written report or a seminar '\n",
      "                 'presentation.',\n",
      "                 ''],\n",
      " 'LISÄTIEDOT': ['Teaching Language : English',\n",
      "                'Teaching Period : 2022-2023 Autumn I - II',\n",
      "                '2022-2023 Spring III - V',\n",
      "                '2023-2024 Autumn I - Spring IV',\n",
      "                '2023-2024 Spring III - V',\n",
      "                'A course implementation may be cancelled if the number of '\n",
      "                'students enrolled to the course implementation does not meet '\n",
      "                'the required minimum of five students. In the case of '\n",
      "                'cancelled course implementations, the students enrolled to '\n",
      "                'them must be provided with an alternative way of completing '\n",
      "                'the course or be advised to take some other applicable '\n",
      "                'course.'],\n",
      " 'OSAAMISTAVOITTEET': ['After the course the student will be able to:',\n",
      "                       '1. search for relevant literature on a given topic and '\n",
      "                       'critically evaluate scientific articles',\n",
      "                       '2. write a clear and logical literature review',\n",
      "                       '3. draw conclusions from results obtained and from '\n",
      "                       'results presented in the literature',\n",
      "                       '4. compare results with the literature',\n",
      "                       '5. present experimental results in a clear and logical '\n",
      "                       'way in a laboratory report/seminar']}\n"
     ]
    }
   ],
   "source": [
    "pprint(eval(df[\"course_info\"].sample(1).item()))"
   ]
  },
  {
   "cell_type": "code",
   "execution_count": null,
   "metadata": {},
   "outputs": [],
   "source": []
  }
 ],
 "metadata": {
  "kernelspec": {
   "display_name": "ray",
   "language": "python",
   "name": "python3"
  },
  "language_info": {
   "codemirror_mode": {
    "name": "ipython",
    "version": 3
   },
   "file_extension": ".py",
   "mimetype": "text/x-python",
   "name": "python",
   "nbconvert_exporter": "python",
   "pygments_lexer": "ipython3",
   "version": "3.10.13"
  }
 },
 "nbformat": 4,
 "nbformat_minor": 2
}
